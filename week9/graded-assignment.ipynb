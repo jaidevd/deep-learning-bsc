{
 "cells": [
  {
   "cell_type": "code",
   "execution_count": 2,
   "id": "41507d0c-55f6-411c-9488-2319751f147c",
   "metadata": {},
   "outputs": [],
   "source": [
    "import pandas as pd\n",
    "import numpy as np"
   ]
  },
  {
   "cell_type": "code",
   "execution_count": 7,
   "id": "83e33c56-1602-4dfa-aaa9-59b4130efeab",
   "metadata": {},
   "outputs": [],
   "source": [
    "from collections import Counter"
   ]
  },
  {
   "cell_type": "code",
   "execution_count": 3,
   "id": "97bbf0e8-f747-4ff5-b3e6-97c417eef618",
   "metadata": {},
   "outputs": [],
   "source": [
    "from sklearn.neighbors import NearestNeighbors"
   ]
  },
  {
   "cell_type": "code",
   "execution_count": 9,
   "id": "4ccb0776-edd3-4a9b-9a87-184366cccd7e",
   "metadata": {},
   "outputs": [],
   "source": [
    "corpus = [\n",
    "    \"knowing the name of something is different from knowing something\".split(),\n",
    "    \"knowing something about everything is alright\".split()\n",
    "]"
   ]
  },
  {
   "cell_type": "code",
   "execution_count": 11,
   "id": "96c3f4e4-db9b-4ea5-bad9-126ae4261a22",
   "metadata": {},
   "outputs": [
    {
     "data": {
      "text/plain": [
       "[('knowing', 3),\n",
       " ('something', 3),\n",
       " ('is', 2),\n",
       " ('the', 1),\n",
       " ('name', 1),\n",
       " ('of', 1),\n",
       " ('different', 1),\n",
       " ('from', 1),\n",
       " ('about', 1),\n",
       " ('everything', 1),\n",
       " ('alright', 1)]"
      ]
     },
     "execution_count": 11,
     "metadata": {},
     "output_type": "execute_result"
    }
   ],
   "source": [
    "V = Counter(corpus[0])\n",
    "V.update(corpus[1])\n",
    "V.most_common()"
   ]
  },
  {
   "cell_type": "code",
   "execution_count": 12,
   "id": "c7409d55-1c26-4ddb-91ef-b668ba172d8d",
   "metadata": {},
   "outputs": [
    {
     "data": {
      "text/plain": [
       "11"
      ]
     },
     "execution_count": 12,
     "metadata": {},
     "output_type": "execute_result"
    }
   ],
   "source": [
    "# Size of the corpus\n",
    "len(V)"
   ]
  },
  {
   "cell_type": "code",
   "execution_count": 13,
   "id": "1d81710a-a1d2-488e-816c-af631be99c2a",
   "metadata": {},
   "outputs": [],
   "source": [
    "to_drop = \"of the alright about from\".split()\n",
    "for t in to_drop:\n",
    "    del V[t]"
   ]
  },
  {
   "cell_type": "code",
   "execution_count": 16,
   "id": "d9ebea9c-7487-41b5-871a-a37064af2ecd",
   "metadata": {},
   "outputs": [
    {
     "data": {
      "text/plain": [
       "['different', 'everything', 'is', 'knowing', 'name', 'something']"
      ]
     },
     "execution_count": 16,
     "metadata": {},
     "output_type": "execute_result"
    }
   ],
   "source": [
    "sorted(V)"
   ]
  },
  {
   "cell_type": "code",
   "execution_count": 19,
   "id": "f71140e8-749e-47f0-8d73-5529e61f186b",
   "metadata": {},
   "outputs": [
    {
     "data": {
      "text/plain": [
       "{'different': 1,\n",
       " 'everything': 1,\n",
       " 'is': 2,\n",
       " 'knowing': 3,\n",
       " 'name': 1,\n",
       " 'something': 3}"
      ]
     },
     "execution_count": 19,
     "metadata": {},
     "output_type": "execute_result"
    }
   ],
   "source": [
    "# Sort alphabetically\n",
    "V = {k: V[k] for k in sorted(V)}\n",
    "V"
   ]
  },
  {
   "cell_type": "code",
   "execution_count": 21,
   "id": "ab19484a-5235-476a-a658-9013a18efaf5",
   "metadata": {},
   "outputs": [],
   "source": [
    "for sentence in corpus:\n",
    "    for t in to_drop:\n",
    "        while True:\n",
    "            try:\n",
    "                sentence.remove(t)\n",
    "            except ValueError:\n",
    "                break\n",
    "            "
   ]
  },
  {
   "cell_type": "code",
   "execution_count": 22,
   "id": "ddede8d3-a066-421c-8340-4ed25afd0366",
   "metadata": {},
   "outputs": [
    {
     "data": {
      "text/plain": [
       "[['knowing', 'name', 'something', 'is', 'different', 'knowing', 'something'],\n",
       " ['knowing', 'something', 'everything', 'is']]"
      ]
     },
     "execution_count": 22,
     "metadata": {},
     "output_type": "execute_result"
    }
   ],
   "source": [
    "corpus"
   ]
  },
  {
   "cell_type": "code",
   "execution_count": 66,
   "id": "882dd9e9-a6d5-45bc-99e6-a4ebca36c17a",
   "metadata": {},
   "outputs": [],
   "source": [
    "def co_occurence(word, context, window_size, corpus):\n",
    "    n_occur = 0\n",
    "    for sentence in corpus:\n",
    "        indices = [i for i, w in enumerate(sentence) if w == word]\n",
    "        for index in indices:\n",
    "            window = sentence[\n",
    "                max(0, index - window_size): min(index + window_size + 1, len(sentence) + 1)\n",
    "            ]\n",
    "            n_occur += window.count(context)\n",
    "    return n_occur"
   ]
  },
  {
   "cell_type": "code",
   "execution_count": 35,
   "id": "024d551d-d3ab-4b01-84ef-51f4debfa54b",
   "metadata": {},
   "outputs": [
    {
     "data": {
      "text/plain": [
       "{'different': 1,\n",
       " 'everything': 1,\n",
       " 'is': 2,\n",
       " 'knowing': 3,\n",
       " 'name': 1,\n",
       " 'something': 3}"
      ]
     },
     "execution_count": 35,
     "metadata": {},
     "output_type": "execute_result"
    }
   ],
   "source": [
    "V"
   ]
  },
  {
   "cell_type": "code",
   "execution_count": 67,
   "id": "fcc1d42a-200c-4efb-bfab-0ea879db80f8",
   "metadata": {},
   "outputs": [
    {
     "data": {
      "text/html": [
       "<div>\n",
       "<style scoped>\n",
       "    .dataframe tbody tr th:only-of-type {\n",
       "        vertical-align: middle;\n",
       "    }\n",
       "\n",
       "    .dataframe tbody tr th {\n",
       "        vertical-align: top;\n",
       "    }\n",
       "\n",
       "    .dataframe thead th {\n",
       "        text-align: right;\n",
       "    }\n",
       "</style>\n",
       "<table border=\"1\" class=\"dataframe\">\n",
       "  <thead>\n",
       "    <tr style=\"text-align: right;\">\n",
       "      <th></th>\n",
       "      <th>different</th>\n",
       "      <th>everything</th>\n",
       "      <th>is</th>\n",
       "      <th>knowing</th>\n",
       "      <th>name</th>\n",
       "      <th>something</th>\n",
       "    </tr>\n",
       "  </thead>\n",
       "  <tbody>\n",
       "    <tr>\n",
       "      <th>different</th>\n",
       "      <td>0</td>\n",
       "      <td>0</td>\n",
       "      <td>0</td>\n",
       "      <td>0</td>\n",
       "      <td>0</td>\n",
       "      <td>0</td>\n",
       "    </tr>\n",
       "    <tr>\n",
       "      <th>everything</th>\n",
       "      <td>0</td>\n",
       "      <td>0</td>\n",
       "      <td>0</td>\n",
       "      <td>0</td>\n",
       "      <td>0</td>\n",
       "      <td>0</td>\n",
       "    </tr>\n",
       "    <tr>\n",
       "      <th>is</th>\n",
       "      <td>0</td>\n",
       "      <td>0</td>\n",
       "      <td>0</td>\n",
       "      <td>0</td>\n",
       "      <td>0</td>\n",
       "      <td>0</td>\n",
       "    </tr>\n",
       "    <tr>\n",
       "      <th>knowing</th>\n",
       "      <td>0</td>\n",
       "      <td>0</td>\n",
       "      <td>0</td>\n",
       "      <td>0</td>\n",
       "      <td>0</td>\n",
       "      <td>0</td>\n",
       "    </tr>\n",
       "    <tr>\n",
       "      <th>name</th>\n",
       "      <td>0</td>\n",
       "      <td>0</td>\n",
       "      <td>0</td>\n",
       "      <td>0</td>\n",
       "      <td>0</td>\n",
       "      <td>0</td>\n",
       "    </tr>\n",
       "    <tr>\n",
       "      <th>something</th>\n",
       "      <td>0</td>\n",
       "      <td>0</td>\n",
       "      <td>0</td>\n",
       "      <td>0</td>\n",
       "      <td>0</td>\n",
       "      <td>0</td>\n",
       "    </tr>\n",
       "  </tbody>\n",
       "</table>\n",
       "</div>"
      ],
      "text/plain": [
       "            different  everything  is  knowing  name  something\n",
       "different           0           0   0        0     0          0\n",
       "everything          0           0   0        0     0          0\n",
       "is                  0           0   0        0     0          0\n",
       "knowing             0           0   0        0     0          0\n",
       "name                0           0   0        0     0          0\n",
       "something           0           0   0        0     0          0"
      ]
     },
     "execution_count": 67,
     "metadata": {},
     "output_type": "execute_result"
    }
   ],
   "source": [
    "C = pd.DataFrame(np.zeros((len(V), len(V)), dtype=int), index=V.keys(), columns=V.keys())\n",
    "C"
   ]
  },
  {
   "cell_type": "code",
   "execution_count": 69,
   "id": "8b47c127-16a4-42f5-ace4-7f96057b6cae",
   "metadata": {},
   "outputs": [
    {
     "data": {
      "text/html": [
       "<div>\n",
       "<style scoped>\n",
       "    .dataframe tbody tr th:only-of-type {\n",
       "        vertical-align: middle;\n",
       "    }\n",
       "\n",
       "    .dataframe tbody tr th {\n",
       "        vertical-align: top;\n",
       "    }\n",
       "\n",
       "    .dataframe thead th {\n",
       "        text-align: right;\n",
       "    }\n",
       "</style>\n",
       "<table border=\"1\" class=\"dataframe\">\n",
       "  <thead>\n",
       "    <tr style=\"text-align: right;\">\n",
       "      <th></th>\n",
       "      <th>different</th>\n",
       "      <th>everything</th>\n",
       "      <th>is</th>\n",
       "      <th>knowing</th>\n",
       "      <th>name</th>\n",
       "      <th>something</th>\n",
       "    </tr>\n",
       "  </thead>\n",
       "  <tbody>\n",
       "    <tr>\n",
       "      <th>different</th>\n",
       "      <td>0</td>\n",
       "      <td>0</td>\n",
       "      <td>1</td>\n",
       "      <td>1</td>\n",
       "      <td>0</td>\n",
       "      <td>0</td>\n",
       "    </tr>\n",
       "    <tr>\n",
       "      <th>everything</th>\n",
       "      <td>0</td>\n",
       "      <td>0</td>\n",
       "      <td>1</td>\n",
       "      <td>0</td>\n",
       "      <td>0</td>\n",
       "      <td>1</td>\n",
       "    </tr>\n",
       "    <tr>\n",
       "      <th>is</th>\n",
       "      <td>1</td>\n",
       "      <td>1</td>\n",
       "      <td>0</td>\n",
       "      <td>0</td>\n",
       "      <td>0</td>\n",
       "      <td>1</td>\n",
       "    </tr>\n",
       "    <tr>\n",
       "      <th>knowing</th>\n",
       "      <td>1</td>\n",
       "      <td>0</td>\n",
       "      <td>0</td>\n",
       "      <td>0</td>\n",
       "      <td>1</td>\n",
       "      <td>2</td>\n",
       "    </tr>\n",
       "    <tr>\n",
       "      <th>name</th>\n",
       "      <td>0</td>\n",
       "      <td>0</td>\n",
       "      <td>0</td>\n",
       "      <td>1</td>\n",
       "      <td>0</td>\n",
       "      <td>1</td>\n",
       "    </tr>\n",
       "    <tr>\n",
       "      <th>something</th>\n",
       "      <td>0</td>\n",
       "      <td>1</td>\n",
       "      <td>1</td>\n",
       "      <td>2</td>\n",
       "      <td>1</td>\n",
       "      <td>0</td>\n",
       "    </tr>\n",
       "  </tbody>\n",
       "</table>\n",
       "</div>"
      ],
      "text/plain": [
       "            different  everything  is  knowing  name  something\n",
       "different           0           0   1        1     0          0\n",
       "everything          0           0   1        0     0          1\n",
       "is                  1           1   0        0     0          1\n",
       "knowing             1           0   0        0     1          2\n",
       "name                0           0   0        1     0          1\n",
       "something           0           1   1        2     1          0"
      ]
     },
     "execution_count": 69,
     "metadata": {},
     "output_type": "execute_result"
    }
   ],
   "source": [
    "for word in V:\n",
    "    for context in V:\n",
    "        if word != context:\n",
    "            C.loc[word, context] = co_occurence(word, context, 1, corpus)\n",
    "C"
   ]
  },
  {
   "cell_type": "code",
   "execution_count": 70,
   "id": "3901fbe3-e3fb-42f4-b880-ac2b93311199",
   "metadata": {},
   "outputs": [],
   "source": [
    "X = C.values"
   ]
  },
  {
   "cell_type": "code",
   "execution_count": 71,
   "id": "3a86a5fe-a59d-4005-a3e1-92713dccb39a",
   "metadata": {},
   "outputs": [
    {
     "data": {
      "text/plain": [
       "array([[0, 0, 1, 1, 0, 0],\n",
       "       [0, 0, 1, 0, 0, 1],\n",
       "       [1, 1, 0, 0, 0, 1],\n",
       "       [1, 0, 0, 0, 1, 2],\n",
       "       [0, 0, 0, 1, 0, 1],\n",
       "       [0, 1, 1, 2, 1, 0]])"
      ]
     },
     "execution_count": 71,
     "metadata": {},
     "output_type": "execute_result"
    }
   ],
   "source": [
    "X"
   ]
  },
  {
   "cell_type": "code",
   "execution_count": 72,
   "id": "4d832703-3302-4957-9b6e-10dc377db179",
   "metadata": {},
   "outputs": [
    {
     "data": {
      "text/plain": [
       "array([[ True,  True,  True,  True,  True,  True],\n",
       "       [ True,  True,  True,  True,  True,  True],\n",
       "       [ True,  True,  True,  True,  True,  True],\n",
       "       [ True,  True,  True,  True,  True,  True],\n",
       "       [ True,  True,  True,  True,  True,  True],\n",
       "       [ True,  True,  True,  True,  True,  True]])"
      ]
     },
     "execution_count": 72,
     "metadata": {},
     "output_type": "execute_result"
    }
   ],
   "source": [
    "X == X.T"
   ]
  },
  {
   "cell_type": "code",
   "execution_count": 73,
   "id": "023e104b-1494-4876-9132-87f1c392ec29",
   "metadata": {},
   "outputs": [
    {
     "data": {
      "text/plain": [
       "16"
      ]
     },
     "execution_count": 73,
     "metadata": {},
     "output_type": "execute_result"
    }
   ],
   "source": [
    "(X != 0).sum()"
   ]
  },
  {
   "cell_type": "code",
   "execution_count": 79,
   "id": "b59743d7-2b7b-4122-8f70-49a075b0723c",
   "metadata": {},
   "outputs": [],
   "source": [
    "X_normed = X / np.linalg.norm(X, axis=1).reshape(-1, 1)"
   ]
  },
  {
   "cell_type": "code",
   "execution_count": 80,
   "id": "291ddd3b-4322-4eeb-a5a6-8bdb70317558",
   "metadata": {},
   "outputs": [
    {
     "data": {
      "text/html": [
       "<div>\n",
       "<style scoped>\n",
       "    .dataframe tbody tr th:only-of-type {\n",
       "        vertical-align: middle;\n",
       "    }\n",
       "\n",
       "    .dataframe tbody tr th {\n",
       "        vertical-align: top;\n",
       "    }\n",
       "\n",
       "    .dataframe thead th {\n",
       "        text-align: right;\n",
       "    }\n",
       "</style>\n",
       "<table border=\"1\" class=\"dataframe\">\n",
       "  <thead>\n",
       "    <tr style=\"text-align: right;\">\n",
       "      <th></th>\n",
       "      <th>different</th>\n",
       "      <th>everything</th>\n",
       "      <th>is</th>\n",
       "      <th>knowing</th>\n",
       "      <th>name</th>\n",
       "      <th>something</th>\n",
       "    </tr>\n",
       "  </thead>\n",
       "  <tbody>\n",
       "    <tr>\n",
       "      <th>different</th>\n",
       "      <td>1.000000</td>\n",
       "      <td>0.500000</td>\n",
       "      <td>0.000000</td>\n",
       "      <td>0.000000</td>\n",
       "      <td>0.500000</td>\n",
       "      <td>0.801784</td>\n",
       "    </tr>\n",
       "    <tr>\n",
       "      <th>everything</th>\n",
       "      <td>0.500000</td>\n",
       "      <td>1.000000</td>\n",
       "      <td>0.408248</td>\n",
       "      <td>0.577350</td>\n",
       "      <td>0.500000</td>\n",
       "      <td>0.267261</td>\n",
       "    </tr>\n",
       "    <tr>\n",
       "      <th>is</th>\n",
       "      <td>0.000000</td>\n",
       "      <td>0.408248</td>\n",
       "      <td>1.000000</td>\n",
       "      <td>0.707107</td>\n",
       "      <td>0.408248</td>\n",
       "      <td>0.218218</td>\n",
       "    </tr>\n",
       "    <tr>\n",
       "      <th>knowing</th>\n",
       "      <td>0.000000</td>\n",
       "      <td>0.577350</td>\n",
       "      <td>0.707107</td>\n",
       "      <td>1.000000</td>\n",
       "      <td>0.577350</td>\n",
       "      <td>0.154303</td>\n",
       "    </tr>\n",
       "    <tr>\n",
       "      <th>name</th>\n",
       "      <td>0.500000</td>\n",
       "      <td>0.500000</td>\n",
       "      <td>0.408248</td>\n",
       "      <td>0.577350</td>\n",
       "      <td>1.000000</td>\n",
       "      <td>0.534522</td>\n",
       "    </tr>\n",
       "    <tr>\n",
       "      <th>something</th>\n",
       "      <td>0.801784</td>\n",
       "      <td>0.267261</td>\n",
       "      <td>0.218218</td>\n",
       "      <td>0.154303</td>\n",
       "      <td>0.534522</td>\n",
       "      <td>1.000000</td>\n",
       "    </tr>\n",
       "  </tbody>\n",
       "</table>\n",
       "</div>"
      ],
      "text/plain": [
       "            different  everything        is   knowing      name  something\n",
       "different    1.000000    0.500000  0.000000  0.000000  0.500000   0.801784\n",
       "everything   0.500000    1.000000  0.408248  0.577350  0.500000   0.267261\n",
       "is           0.000000    0.408248  1.000000  0.707107  0.408248   0.218218\n",
       "knowing      0.000000    0.577350  0.707107  1.000000  0.577350   0.154303\n",
       "name         0.500000    0.500000  0.408248  0.577350  1.000000   0.534522\n",
       "something    0.801784    0.267261  0.218218  0.154303  0.534522   1.000000"
      ]
     },
     "execution_count": 80,
     "metadata": {},
     "output_type": "execute_result"
    }
   ],
   "source": [
    "pd.DataFrame(X_normed @ X_normed.T, index=V.keys(), columns=V.keys())"
   ]
  },
  {
   "cell_type": "code",
   "execution_count": 81,
   "id": "dfa40a30-d000-469e-98df-416eb35d9376",
   "metadata": {},
   "outputs": [
    {
     "data": {
      "text/plain": [
       "array([1., 1., 1., 1., 1., 1.])"
      ]
     },
     "execution_count": 81,
     "metadata": {},
     "output_type": "execute_result"
    }
   ],
   "source": [
    "np.linalg.norm(X_normed, axis=1)"
   ]
  },
  {
   "cell_type": "code",
   "execution_count": 82,
   "id": "45ac34e0-5a9f-48eb-b18b-f79014a50bf0",
   "metadata": {},
   "outputs": [
    {
     "data": {
      "text/plain": [
       "1.0"
      ]
     },
     "execution_count": 82,
     "metadata": {},
     "output_type": "execute_result"
    }
   ],
   "source": [
    "def pmi(word, context, corpus, window_size=1):\n",
    "    count = co_occurence(word, context, window_size, corpus)\n",
    "    count_context = sum([k.count(context) for k in corpus])\n",
    "    count_word    = sum([k.count(word) for k in corpus])\n",
    "    return np.log2(count * 9 / count_context / count_word)\n",
    "pmi('knowing', 'something', corpus)"
   ]
  },
  {
   "cell_type": "code",
   "execution_count": 83,
   "id": "3557e95c-5efa-486f-863d-cae44beff672",
   "metadata": {},
   "outputs": [
    {
     "data": {
      "text/plain": [
       "1.0"
      ]
     },
     "execution_count": 83,
     "metadata": {},
     "output_type": "execute_result"
    }
   ],
   "source": [
    "pmi('something', 'knowing', corpus)"
   ]
  },
  {
   "cell_type": "code",
   "execution_count": 84,
   "id": "13acad17-a054-47b3-b4ac-96e04c4d5705",
   "metadata": {},
   "outputs": [
    {
     "data": {
      "text/html": [
       "<div>\n",
       "<style scoped>\n",
       "    .dataframe tbody tr th:only-of-type {\n",
       "        vertical-align: middle;\n",
       "    }\n",
       "\n",
       "    .dataframe tbody tr th {\n",
       "        vertical-align: top;\n",
       "    }\n",
       "\n",
       "    .dataframe thead th {\n",
       "        text-align: right;\n",
       "    }\n",
       "</style>\n",
       "<table border=\"1\" class=\"dataframe\">\n",
       "  <thead>\n",
       "    <tr style=\"text-align: right;\">\n",
       "      <th></th>\n",
       "      <th>different</th>\n",
       "      <th>everything</th>\n",
       "      <th>is</th>\n",
       "      <th>knowing</th>\n",
       "      <th>name</th>\n",
       "      <th>something</th>\n",
       "    </tr>\n",
       "  </thead>\n",
       "  <tbody>\n",
       "    <tr>\n",
       "      <th>different</th>\n",
       "      <td>0</td>\n",
       "      <td>0</td>\n",
       "      <td>1</td>\n",
       "      <td>1</td>\n",
       "      <td>0</td>\n",
       "      <td>0</td>\n",
       "    </tr>\n",
       "    <tr>\n",
       "      <th>everything</th>\n",
       "      <td>0</td>\n",
       "      <td>0</td>\n",
       "      <td>1</td>\n",
       "      <td>0</td>\n",
       "      <td>0</td>\n",
       "      <td>1</td>\n",
       "    </tr>\n",
       "    <tr>\n",
       "      <th>is</th>\n",
       "      <td>1</td>\n",
       "      <td>1</td>\n",
       "      <td>0</td>\n",
       "      <td>0</td>\n",
       "      <td>0</td>\n",
       "      <td>1</td>\n",
       "    </tr>\n",
       "    <tr>\n",
       "      <th>knowing</th>\n",
       "      <td>1</td>\n",
       "      <td>0</td>\n",
       "      <td>0</td>\n",
       "      <td>0</td>\n",
       "      <td>1</td>\n",
       "      <td>2</td>\n",
       "    </tr>\n",
       "    <tr>\n",
       "      <th>name</th>\n",
       "      <td>0</td>\n",
       "      <td>0</td>\n",
       "      <td>0</td>\n",
       "      <td>1</td>\n",
       "      <td>0</td>\n",
       "      <td>1</td>\n",
       "    </tr>\n",
       "    <tr>\n",
       "      <th>something</th>\n",
       "      <td>0</td>\n",
       "      <td>1</td>\n",
       "      <td>1</td>\n",
       "      <td>2</td>\n",
       "      <td>1</td>\n",
       "      <td>0</td>\n",
       "    </tr>\n",
       "  </tbody>\n",
       "</table>\n",
       "</div>"
      ],
      "text/plain": [
       "            different  everything  is  knowing  name  something\n",
       "different           0           0   1        1     0          0\n",
       "everything          0           0   1        0     0          1\n",
       "is                  1           1   0        0     0          1\n",
       "knowing             1           0   0        0     1          2\n",
       "name                0           0   0        1     0          1\n",
       "something           0           1   1        2     1          0"
      ]
     },
     "execution_count": 84,
     "metadata": {},
     "output_type": "execute_result"
    }
   ],
   "source": [
    "C"
   ]
  },
  {
   "cell_type": "code",
   "execution_count": 86,
   "id": "9fda4f6d-ce12-4002-8ffc-13952f74a12e",
   "metadata": {},
   "outputs": [],
   "source": [
    "u, sig, v = np.linalg.svd(X_normed)\n",
    "rank1 = sig[0] * np.outer(u[:, 0], v[0, :])"
   ]
  },
  {
   "cell_type": "code",
   "execution_count": 94,
   "id": "30bdc1f3-9902-4b70-bb27-4c4892749a05",
   "metadata": {},
   "outputs": [],
   "source": [
    "R1 = pd.DataFrame(rank1.round(3), index=V.keys(), columns=V.keys())"
   ]
  },
  {
   "cell_type": "code",
   "execution_count": 95,
   "id": "e2cfeac8-342c-4316-bc1a-1f1b47c09b20",
   "metadata": {},
   "outputs": [
    {
     "data": {
      "text/html": [
       "<div>\n",
       "<style scoped>\n",
       "    .dataframe tbody tr th:only-of-type {\n",
       "        vertical-align: middle;\n",
       "    }\n",
       "\n",
       "    .dataframe tbody tr th {\n",
       "        vertical-align: top;\n",
       "    }\n",
       "\n",
       "    .dataframe thead th {\n",
       "        text-align: right;\n",
       "    }\n",
       "</style>\n",
       "<table border=\"1\" class=\"dataframe\">\n",
       "  <thead>\n",
       "    <tr style=\"text-align: right;\">\n",
       "      <th></th>\n",
       "      <th>different</th>\n",
       "      <th>everything</th>\n",
       "      <th>is</th>\n",
       "      <th>knowing</th>\n",
       "      <th>name</th>\n",
       "      <th>something</th>\n",
       "    </tr>\n",
       "  </thead>\n",
       "  <tbody>\n",
       "    <tr>\n",
       "      <th>different</th>\n",
       "      <td>0.138</td>\n",
       "      <td>0.131</td>\n",
       "      <td>0.266</td>\n",
       "      <td>0.331</td>\n",
       "      <td>0.116</td>\n",
       "      <td>0.438</td>\n",
       "    </tr>\n",
       "    <tr>\n",
       "      <th>everything</th>\n",
       "      <td>0.163</td>\n",
       "      <td>0.155</td>\n",
       "      <td>0.314</td>\n",
       "      <td>0.391</td>\n",
       "      <td>0.137</td>\n",
       "      <td>0.517</td>\n",
       "    </tr>\n",
       "    <tr>\n",
       "      <th>is</th>\n",
       "      <td>0.133</td>\n",
       "      <td>0.127</td>\n",
       "      <td>0.257</td>\n",
       "      <td>0.320</td>\n",
       "      <td>0.112</td>\n",
       "      <td>0.424</td>\n",
       "    </tr>\n",
       "    <tr>\n",
       "      <th>knowing</th>\n",
       "      <td>0.151</td>\n",
       "      <td>0.143</td>\n",
       "      <td>0.291</td>\n",
       "      <td>0.362</td>\n",
       "      <td>0.127</td>\n",
       "      <td>0.479</td>\n",
       "    </tr>\n",
       "    <tr>\n",
       "      <th>name</th>\n",
       "      <td>0.178</td>\n",
       "      <td>0.169</td>\n",
       "      <td>0.343</td>\n",
       "      <td>0.427</td>\n",
       "      <td>0.149</td>\n",
       "      <td>0.565</td>\n",
       "    </tr>\n",
       "    <tr>\n",
       "      <th>something</th>\n",
       "      <td>0.145</td>\n",
       "      <td>0.138</td>\n",
       "      <td>0.280</td>\n",
       "      <td>0.348</td>\n",
       "      <td>0.122</td>\n",
       "      <td>0.461</td>\n",
       "    </tr>\n",
       "  </tbody>\n",
       "</table>\n",
       "</div>"
      ],
      "text/plain": [
       "            different  everything     is  knowing   name  something\n",
       "different       0.138       0.131  0.266    0.331  0.116      0.438\n",
       "everything      0.163       0.155  0.314    0.391  0.137      0.517\n",
       "is              0.133       0.127  0.257    0.320  0.112      0.424\n",
       "knowing         0.151       0.143  0.291    0.362  0.127      0.479\n",
       "name            0.178       0.169  0.343    0.427  0.149      0.565\n",
       "something       0.145       0.138  0.280    0.348  0.122      0.461"
      ]
     },
     "execution_count": 95,
     "metadata": {},
     "output_type": "execute_result"
    }
   ],
   "source": [
    "R1"
   ]
  },
  {
   "cell_type": "code",
   "execution_count": 96,
   "id": "e11bd9c4-6bed-4144-aaef-282c5664e7db",
   "metadata": {},
   "outputs": [],
   "source": [
    "XXT = pd.DataFrame(R1.values @ R1.values.T, index=V.keys(), columns=V.keys())"
   ]
  },
  {
   "cell_type": "code",
   "execution_count": 97,
   "id": "24491b4b-397b-4595-a33f-996585e4060a",
   "metadata": {},
   "outputs": [
    {
     "data": {
      "text/html": [
       "<div>\n",
       "<style scoped>\n",
       "    .dataframe tbody tr th:only-of-type {\n",
       "        vertical-align: middle;\n",
       "    }\n",
       "\n",
       "    .dataframe tbody tr th {\n",
       "        vertical-align: top;\n",
       "    }\n",
       "\n",
       "    .dataframe thead th {\n",
       "        text-align: right;\n",
       "    }\n",
       "</style>\n",
       "<table border=\"1\" class=\"dataframe\">\n",
       "  <thead>\n",
       "    <tr style=\"text-align: right;\">\n",
       "      <th></th>\n",
       "      <th>different</th>\n",
       "      <th>everything</th>\n",
       "      <th>is</th>\n",
       "      <th>knowing</th>\n",
       "      <th>name</th>\n",
       "      <th>something</th>\n",
       "    </tr>\n",
       "  </thead>\n",
       "  <tbody>\n",
       "    <tr>\n",
       "      <th>different</th>\n",
       "      <td>0.421822</td>\n",
       "      <td>0.498082</td>\n",
       "      <td>0.407977</td>\n",
       "      <td>0.461333</td>\n",
       "      <td>0.544032</td>\n",
       "      <td>0.443826</td>\n",
       "    </tr>\n",
       "    <tr>\n",
       "      <th>everything</th>\n",
       "      <td>0.498082</td>\n",
       "      <td>0.588129</td>\n",
       "      <td>0.481734</td>\n",
       "      <td>0.544736</td>\n",
       "      <td>0.642386</td>\n",
       "      <td>0.524064</td>\n",
       "    </tr>\n",
       "    <tr>\n",
       "      <th>is</th>\n",
       "      <td>0.407977</td>\n",
       "      <td>0.481734</td>\n",
       "      <td>0.394587</td>\n",
       "      <td>0.446191</td>\n",
       "      <td>0.526176</td>\n",
       "      <td>0.429259</td>\n",
       "    </tr>\n",
       "    <tr>\n",
       "      <th>knowing</th>\n",
       "      <td>0.461333</td>\n",
       "      <td>0.544736</td>\n",
       "      <td>0.446191</td>\n",
       "      <td>0.504545</td>\n",
       "      <td>0.594990</td>\n",
       "      <td>0.485398</td>\n",
       "    </tr>\n",
       "    <tr>\n",
       "      <th>name</th>\n",
       "      <td>0.544032</td>\n",
       "      <td>0.642386</td>\n",
       "      <td>0.526176</td>\n",
       "      <td>0.594990</td>\n",
       "      <td>0.701649</td>\n",
       "      <td>0.572411</td>\n",
       "    </tr>\n",
       "    <tr>\n",
       "      <th>something</th>\n",
       "      <td>0.443826</td>\n",
       "      <td>0.524064</td>\n",
       "      <td>0.429259</td>\n",
       "      <td>0.485398</td>\n",
       "      <td>0.572411</td>\n",
       "      <td>0.466978</td>\n",
       "    </tr>\n",
       "  </tbody>\n",
       "</table>\n",
       "</div>"
      ],
      "text/plain": [
       "            different  everything        is   knowing      name  something\n",
       "different    0.421822    0.498082  0.407977  0.461333  0.544032   0.443826\n",
       "everything   0.498082    0.588129  0.481734  0.544736  0.642386   0.524064\n",
       "is           0.407977    0.481734  0.394587  0.446191  0.526176   0.429259\n",
       "knowing      0.461333    0.544736  0.446191  0.504545  0.594990   0.485398\n",
       "name         0.544032    0.642386  0.526176  0.594990  0.701649   0.572411\n",
       "something    0.443826    0.524064  0.429259  0.485398  0.572411   0.466978"
      ]
     },
     "execution_count": 97,
     "metadata": {},
     "output_type": "execute_result"
    }
   ],
   "source": [
    "XXT"
   ]
  },
  {
   "cell_type": "code",
   "execution_count": null,
   "id": "88c9f120-4815-4704-9ac1-2083f00548df",
   "metadata": {},
   "outputs": [],
   "source": []
  }
 ],
 "metadata": {
  "kernelspec": {
   "display_name": "Python 3 (ipykernel)",
   "language": "python",
   "name": "python3"
  },
  "language_info": {
   "codemirror_mode": {
    "name": "ipython",
    "version": 3
   },
   "file_extension": ".py",
   "mimetype": "text/x-python",
   "name": "python",
   "nbconvert_exporter": "python",
   "pygments_lexer": "ipython3",
   "version": "3.9.12"
  }
 },
 "nbformat": 4,
 "nbformat_minor": 5
}
