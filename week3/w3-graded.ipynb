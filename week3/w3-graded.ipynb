{
 "cells": [
  {
   "cell_type": "code",
   "execution_count": 1,
   "id": "81f45967-203a-496b-a2c9-a560a48f5c4c",
   "metadata": {},
   "outputs": [],
   "source": [
    "import numpy as np"
   ]
  },
  {
   "cell_type": "code",
   "execution_count": 4,
   "id": "6011eb4a-2063-4a91-a418-86f9c40619f7",
   "metadata": {},
   "outputs": [],
   "source": [
    "with np.load('parameters.npz') as fin:\n",
    "    W1, W2, W3 = fin['W1'], fin['W2'], fin['W3']\n",
    "    b1, b2, b3 = fin['b1'], fin['b2'], fin['b3']"
   ]
  },
  {
   "cell_type": "code",
   "execution_count": 12,
   "id": "ee015054-63d6-4a00-967a-f79ccba242b2",
   "metadata": {},
   "outputs": [
    {
     "data": {
      "text/plain": [
       "(array([[1],\n",
       "        [0],\n",
       "        [1]]),\n",
       " array([[0],\n",
       "        [0],\n",
       "        [1]]))"
      ]
     },
     "execution_count": 12,
     "metadata": {},
     "output_type": "execute_result"
    }
   ],
   "source": [
    "x = np.array([1, 0, 1]).reshape(-1, 1)\n",
    "y = np.array([0, 0, 1]).reshape(-1, 1)\n",
    "x, y"
   ]
  },
  {
   "cell_type": "code",
   "execution_count": 13,
   "id": "6bd9cbf6-0a57-4987-937a-7d1b35ef1b9c",
   "metadata": {},
   "outputs": [],
   "source": [
    "def sigmoid(x):\n",
    "    return 1 / (1 + np.exp(-x))\n",
    "\n",
    "def softmax(x):\n",
    "    y = np.exp(x)\n",
    "    return y / y.sum()"
   ]
  },
  {
   "cell_type": "code",
   "execution_count": 14,
   "id": "2ca5540a-8044-4840-8fa4-81738b07e77e",
   "metadata": {},
   "outputs": [
    {
     "data": {
      "text/plain": [
       "36"
      ]
     },
     "execution_count": 14,
     "metadata": {},
     "output_type": "execute_result"
    }
   ],
   "source": [
    "# No. of learnable params\n",
    "sum([k.size for k in [W1, W2, W3, b1, b2, b3]])"
   ]
  },
  {
   "cell_type": "code",
   "execution_count": 23,
   "id": "76175b62-e062-4e20-a899-b6f9fc876002",
   "metadata": {},
   "outputs": [
    {
     "data": {
      "text/plain": [
       "5.44766562448759"
      ]
     },
     "execution_count": 23,
     "metadata": {},
     "output_type": "execute_result"
    }
   ],
   "source": [
    "# What is the sum of the elments of output a1? \n",
    "a1 = W1 @ x + b1\n",
    "a1.sum()"
   ]
  },
  {
   "cell_type": "code",
   "execution_count": 24,
   "id": "8a2c8939-d8dc-49b3-b157-6166bad69727",
   "metadata": {},
   "outputs": [
    {
     "data": {
      "text/plain": [
       "2.5749524957231924"
      ]
     },
     "execution_count": 24,
     "metadata": {},
     "output_type": "execute_result"
    }
   ],
   "source": [
    "# What is the sum of the elements of output h1?\n",
    "h1 = sigmoid(a1)\n",
    "h1.sum()"
   ]
  },
  {
   "cell_type": "code",
   "execution_count": 25,
   "id": "681112a2-fc75-40d6-a15b-4b6a383ead54",
   "metadata": {},
   "outputs": [],
   "source": [
    "# Remaining forward pass\n",
    "a2 = W2 @ h1 + b2\n",
    "h2 = sigmoid(a2)\n",
    "a3 = W3 @ h2 + b3\n",
    "yhat = softmax(a3)"
   ]
  },
  {
   "cell_type": "code",
   "execution_count": 26,
   "id": "ae1cdebd-6e42-4071-8e5d-a7a1a11de0de",
   "metadata": {},
   "outputs": [
    {
     "data": {
      "text/plain": [
       "[6.460166773282593, 2.63139309587371, 4.874920988265704]"
      ]
     },
     "execution_count": 26,
     "metadata": {},
     "output_type": "execute_result"
    }
   ],
   "source": [
    "[a2.sum(), h2.sum(), a3.sum()]"
   ]
  },
  {
   "cell_type": "code",
   "execution_count": 35,
   "id": "2be152e2-b37a-41e8-b77f-72a17405c7d0",
   "metadata": {},
   "outputs": [
    {
     "data": {
      "text/plain": [
       "0.8563785622753883"
      ]
     },
     "execution_count": 35,
     "metadata": {},
     "output_type": "execute_result"
    }
   ],
   "source": [
    "# Seems correct so far - what is the loss value?\n",
    "L = -1 * np.sum(y * np.log(yhat))\n",
    "L"
   ]
  },
  {
   "cell_type": "code",
   "execution_count": 37,
   "id": "3212430a-2cfe-451c-9c71-6214cba51336",
   "metadata": {},
   "outputs": [
    {
     "data": {
      "text/plain": [
       "array([[ 0.23691422],\n",
       "       [ 0.33838847],\n",
       "       [-0.57530268]])"
      ]
     },
     "execution_count": 37,
     "metadata": {},
     "output_type": "execute_result"
    }
   ],
   "source": [
    "# Gradient of loss wrt a3?\n",
    "grad_L_a3 = -(y - yhat)\n",
    "grad_L_a3"
   ]
  },
  {
   "cell_type": "code",
   "execution_count": 39,
   "id": "83bac1ba-4e48-4299-b879-38617c3a5602",
   "metadata": {},
   "outputs": [],
   "source": [
    "# Backpropagate"
   ]
  },
  {
   "cell_type": "code",
   "execution_count": 52,
   "id": "2d6c4972-1a50-4ceb-b30e-5e986110c70b",
   "metadata": {},
   "outputs": [
    {
     "data": {
      "text/plain": [
       "array([[ 0.23691422],\n",
       "       [ 0.33838847],\n",
       "       [-0.57530268]])"
      ]
     },
     "execution_count": 52,
     "metadata": {},
     "output_type": "execute_result"
    }
   ],
   "source": [
    "grad_a3 = - (y - yhat)\n",
    "grad_a3"
   ]
  },
  {
   "cell_type": "code",
   "execution_count": 53,
   "id": "7a944472-ab4a-49f3-a1ca-2719f0a57a5e",
   "metadata": {},
   "outputs": [
    {
     "data": {
      "text/plain": [
       "array([[ 0.21202113,  0.18529411,  0.2260992 ],\n",
       "       [ 0.30283325,  0.26465862,  0.3229412 ],\n",
       "       [-0.51485438, -0.44995274, -0.5490404 ]])"
      ]
     },
     "execution_count": 53,
     "metadata": {},
     "output_type": "execute_result"
    }
   ],
   "source": [
    "grad_w3 = grad_a3 @ h2.T\n",
    "grad_w3"
   ]
  },
  {
   "cell_type": "code",
   "execution_count": 54,
   "id": "c13bc26e-573d-4635-83f3-2741cdae0e87",
   "metadata": {},
   "outputs": [],
   "source": [
    "grad_b3 = grad_a3"
   ]
  },
  {
   "cell_type": "code",
   "execution_count": 55,
   "id": "3c3783da-9694-4948-ab1d-71167bfecef5",
   "metadata": {},
   "outputs": [
    {
     "data": {
      "text/plain": [
       "array([[ 0.1954864 ],\n",
       "       [-0.11722488],\n",
       "       [-0.08814526]])"
      ]
     },
     "execution_count": 55,
     "metadata": {},
     "output_type": "execute_result"
    }
   ],
   "source": [
    "grad_h2 = W3.T @ grad_a3\n",
    "grad_h2"
   ]
  },
  {
   "cell_type": "code",
   "execution_count": 59,
   "id": "5deebd20-06e0-4ecb-8053-37b362e8118c",
   "metadata": {},
   "outputs": [
    {
     "data": {
      "text/plain": [
       "array([[ 0.01838198],\n",
       "       [-0.01997644],\n",
       "       [-0.0038401 ]])"
      ]
     },
     "execution_count": 59,
     "metadata": {},
     "output_type": "execute_result"
    }
   ],
   "source": [
    "grad_b2 = grad_a2 = grad_h2 * sigmoid(a2) * (1 - sigmoid(a2))\n",
    "grad_a2"
   ]
  },
  {
   "cell_type": "code",
   "execution_count": 61,
   "id": "180596e2-5b6e-4f8a-9758-dbb0b0285b1f",
   "metadata": {},
   "outputs": [
    {
     "data": {
      "text/plain": [
       "array([[ 0.01512358,  0.0161568 ,  0.01605235],\n",
       "       [-0.0164354 , -0.01755824, -0.01744473],\n",
       "       [-0.0031594 , -0.00337525, -0.00335343]])"
      ]
     },
     "execution_count": 61,
     "metadata": {},
     "output_type": "execute_result"
    }
   ],
   "source": [
    "grad_w2 = grad_a2 @ h1.T\n",
    "grad_w2"
   ]
  },
  {
   "cell_type": "code",
   "execution_count": 63,
   "id": "77063a7d-7874-4f2e-88b8-2eaa81c0868a",
   "metadata": {},
   "outputs": [
    {
     "data": {
      "text/plain": [
       "array([[ 0.00571305],\n",
       "       [ 0.01326947],\n",
       "       [-0.01908499]])"
      ]
     },
     "execution_count": 63,
     "metadata": {},
     "output_type": "execute_result"
    }
   ],
   "source": [
    "grad_h1 = W2.T @ grad_a2\n",
    "grad_h1"
   ]
  },
  {
   "cell_type": "code",
   "execution_count": 64,
   "id": "d118fb55-9f96-4137-8309-121e2794e898",
   "metadata": {},
   "outputs": [
    {
     "data": {
      "text/plain": [
       "array([[ 0.00083319],\n",
       "       [ 0.00141185],\n",
       "       [-0.00211219]])"
      ]
     },
     "execution_count": 64,
     "metadata": {},
     "output_type": "execute_result"
    }
   ],
   "source": [
    "grad_a1 = grad_h1 * (sigmoid(a1) * (1 - sigmoid(a1)))\n",
    "grad_a1"
   ]
  },
  {
   "cell_type": "code",
   "execution_count": 65,
   "id": "9601a0d6-02ab-49ba-aa6d-e58f862d7bc7",
   "metadata": {},
   "outputs": [],
   "source": [
    "grad_b1 = grad_a1"
   ]
  },
  {
   "cell_type": "code",
   "execution_count": 66,
   "id": "1cf551a3-0b1b-4242-b396-aa13d852c08d",
   "metadata": {},
   "outputs": [],
   "source": [
    "grad_w1 = grad_a1 @ x.T"
   ]
  },
  {
   "cell_type": "code",
   "execution_count": 67,
   "id": "2b8742c4-9c6c-4f89-bb94-ab64b81b2db0",
   "metadata": {},
   "outputs": [
    {
     "data": {
      "text/plain": [
       "array([[ 0.00083319,  0.        ,  0.00083319],\n",
       "       [ 0.00141185,  0.        ,  0.00141185],\n",
       "       [-0.00211219,  0.        , -0.00211219]])"
      ]
     },
     "execution_count": 67,
     "metadata": {},
     "output_type": "execute_result"
    }
   ],
   "source": [
    "grad_w1"
   ]
  },
  {
   "cell_type": "code",
   "execution_count": 69,
   "id": "ec80a537-6ebf-4092-808b-255a90c840f3",
   "metadata": {},
   "outputs": [],
   "source": [
    "w1_new = W1 - grad_w1\n",
    "b1_new = b1 - grad_b1\n",
    "\n",
    "w2_new = W2 - grad_w2\n",
    "b2_new = b2 - grad_b2\n",
    "\n",
    "w3_new = W3 - grad_w3\n",
    "b3_new = b3 - grad_b3"
   ]
  },
  {
   "cell_type": "code",
   "execution_count": 70,
   "id": "38b8dce6-f008-49c0-a733-e296fbe51902",
   "metadata": {},
   "outputs": [],
   "source": [
    "# New forward pass"
   ]
  },
  {
   "cell_type": "code",
   "execution_count": 71,
   "id": "1a4c05d7-2146-4b12-89a3-00998dedc07d",
   "metadata": {},
   "outputs": [],
   "source": [
    "a1 = w1_new @ x + b1_new\n",
    "h1 = sigmoid(a1)\n",
    "\n",
    "a2 = w2_new @ h1 + b2_new\n",
    "h2 = sigmoid(a2)\n",
    "\n",
    "a3 = w3_new @ h2 + b3_new\n",
    "yhat = softmax(a3)"
   ]
  },
  {
   "cell_type": "code",
   "execution_count": 72,
   "id": "b373bb3a-d5fd-4b8c-8b22-f50265dec432",
   "metadata": {},
   "outputs": [
    {
     "data": {
      "text/plain": [
       "array([[0.03475536],\n",
       "       [0.03520987],\n",
       "       [0.93003478]])"
      ]
     },
     "execution_count": 72,
     "metadata": {},
     "output_type": "execute_result"
    }
   ],
   "source": [
    "yhat"
   ]
  },
  {
   "cell_type": "code",
   "execution_count": 73,
   "id": "36db43f0-930e-4952-8f4e-befa589b6234",
   "metadata": {},
   "outputs": [
    {
     "data": {
      "text/plain": [
       "0.07253330081047048"
      ]
     },
     "execution_count": 73,
     "metadata": {},
     "output_type": "execute_result"
    }
   ],
   "source": [
    "# Loss\n",
    "-1 * np.sum(y * np.log(yhat))"
   ]
  },
  {
   "cell_type": "code",
   "execution_count": null,
   "id": "389f5cb3-d4d7-444b-a333-164ad04910c3",
   "metadata": {},
   "outputs": [],
   "source": []
  }
 ],
 "metadata": {
  "kernelspec": {
   "display_name": "Python 3 (ipykernel)",
   "language": "python",
   "name": "python3"
  },
  "language_info": {
   "codemirror_mode": {
    "name": "ipython",
    "version": 3
   },
   "file_extension": ".py",
   "mimetype": "text/x-python",
   "name": "python",
   "nbconvert_exporter": "python",
   "pygments_lexer": "ipython3",
   "version": "3.9.12"
  }
 },
 "nbformat": 4,
 "nbformat_minor": 5
}
