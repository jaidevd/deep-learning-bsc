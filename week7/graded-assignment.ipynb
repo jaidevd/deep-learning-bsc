{
 "cells": [
  {
   "cell_type": "code",
   "execution_count": 1,
   "id": "b1ee47e9-70c8-47dc-989e-89d5bb02fbd0",
   "metadata": {},
   "outputs": [],
   "source": [
    "import numpy as np"
   ]
  },
  {
   "cell_type": "code",
   "execution_count": 2,
   "id": "130642e0-3b8d-4053-84eb-a346923ba9b5",
   "metadata": {},
   "outputs": [],
   "source": [
    "def sigmoid(x):\n",
    "    return 1 / (1 + np.exp(-x))"
   ]
  },
  {
   "cell_type": "code",
   "execution_count": 3,
   "id": "317c7344-ba52-4755-99ca-282f4d647183",
   "metadata": {},
   "outputs": [],
   "source": [
    "W1 = W2 = np.array([\n",
    "    [10, 0.1],\n",
    "    [0.25, 10]\n",
    "])\n",
    "W3 = np.array([10, 0.1])\n",
    "b1 = b2 = np.array([[1], [1]])\n",
    "b3 = 1\n",
    "eta = 1"
   ]
  },
  {
   "cell_type": "code",
   "execution_count": 5,
   "id": "7a01d04a-c88a-4f3d-ac55-30daa374607d",
   "metadata": {},
   "outputs": [
    {
     "data": {
      "text/plain": [
       "array([[0.73105858],\n",
       "       [0.73105858]])"
      ]
     },
     "execution_count": 5,
     "metadata": {},
     "output_type": "execute_result"
    }
   ],
   "source": [
    "x = np.array([[0], [0]])\n",
    "\n",
    "a1 = W1 @ x + b1\n",
    "h1 = sigmoid(a1)\n",
    "h1"
   ]
  },
  {
   "cell_type": "code",
   "execution_count": 7,
   "id": "cf8f4104-8905-412f-8857-1f2358e04a38",
   "metadata": {},
   "outputs": [],
   "source": [
    "a2 = W2 @ h1 + b2\n",
    "h2 = sigmoid(a2)"
   ]
  },
  {
   "cell_type": "code",
   "execution_count": 12,
   "id": "b0b64b1b-77d3-47ea-8af5-34104d389a22",
   "metadata": {},
   "outputs": [],
   "source": [
    "a3 = W3 @ h2 + b3\n",
    "h3 = sigmoid(a3)"
   ]
  },
  {
   "cell_type": "code",
   "execution_count": 13,
   "id": "1ab4cfc0-71b2-42c2-8244-7f74edadb107",
   "metadata": {},
   "outputs": [
    {
     "data": {
      "text/plain": [
       "array([0.99998485])"
      ]
     },
     "execution_count": 13,
     "metadata": {},
     "output_type": "execute_result"
    }
   ],
   "source": [
    "h3"
   ]
  },
  {
   "cell_type": "code",
   "execution_count": 14,
   "id": "09e314da-9c17-4465-863a-5ed15802d1eb",
   "metadata": {},
   "outputs": [
    {
     "data": {
      "text/plain": [
       "0.4999848531371256"
      ]
     },
     "execution_count": 14,
     "metadata": {},
     "output_type": "execute_result"
    }
   ],
   "source": [
    "def loss(y, yhat):\n",
    "    return 0.5 * np.sum((y - yhat) ** 2)\n",
    "\n",
    "loss(h3, [0])"
   ]
  },
  {
   "cell_type": "code",
   "execution_count": 16,
   "id": "b2d73323-1cf1-4e4d-ada1-d8faa7b0e961",
   "metadata": {},
   "outputs": [],
   "source": [
    "y = 0"
   ]
  },
  {
   "cell_type": "code",
   "execution_count": 17,
   "id": "5b7bc0ae-26f2-45c4-b8b6-3bd28b2341b0",
   "metadata": {},
   "outputs": [
    {
     "data": {
      "text/plain": [
       "array([0.99998485])"
      ]
     },
     "execution_count": 17,
     "metadata": {},
     "output_type": "execute_result"
    }
   ],
   "source": [
    "y - h3"
   ]
  },
  {
   "cell_type": "code",
   "execution_count": 19,
   "id": "5148b02e-d1fc-4fa0-964a-78ad15df2b78",
   "metadata": {},
   "outputs": [
    {
     "data": {
      "text/plain": [
       "array([11.0976944])"
      ]
     },
     "execution_count": 19,
     "metadata": {},
     "output_type": "execute_result"
    }
   ],
   "source": [
    "a3"
   ]
  },
  {
   "cell_type": "code",
   "execution_count": 20,
   "id": "7593b254-b268-4c69-b73d-124068c8352b",
   "metadata": {},
   "outputs": [
    {
     "data": {
      "text/plain": [
       "array([0.99998485])"
      ]
     },
     "execution_count": 20,
     "metadata": {},
     "output_type": "execute_result"
    }
   ],
   "source": [
    "h3"
   ]
  },
  {
   "cell_type": "code",
   "execution_count": 21,
   "id": "2eac8704-bd41-403d-a738-d9607dc38248",
   "metadata": {},
   "outputs": [
    {
     "data": {
      "text/plain": [
       "array([[0.99977149],\n",
       "       [0.99979522]])"
      ]
     },
     "execution_count": 21,
     "metadata": {},
     "output_type": "execute_result"
    }
   ],
   "source": [
    "h2"
   ]
  },
  {
   "cell_type": "code",
   "execution_count": 22,
   "id": "99fc7c5a-3d3f-435c-9360-9020f1e548ef",
   "metadata": {},
   "outputs": [],
   "source": [
    "h21 = h2.ravel()[0]"
   ]
  },
  {
   "cell_type": "code",
   "execution_count": 27,
   "id": "5ea68e32-7a8f-4292-9cdb-adef5291f0f5",
   "metadata": {},
   "outputs": [
    {
     "data": {
      "text/plain": [
       "array([1.51465187e-05])"
      ]
     },
     "execution_count": 27,
     "metadata": {},
     "output_type": "execute_result"
    }
   ],
   "source": [
    "(h3 - y) * h3 * (1 - h3 )"
   ]
  },
  {
   "cell_type": "code",
   "execution_count": 28,
   "id": "18b888c8-4a3f-43f4-998e-2d9b9d7b9802",
   "metadata": {},
   "outputs": [
    {
     "data": {
      "text/plain": [
       "array([[0.99977149],\n",
       "       [0.99979522]])"
      ]
     },
     "execution_count": 28,
     "metadata": {},
     "output_type": "execute_result"
    }
   ],
   "source": [
    "h2"
   ]
  },
  {
   "cell_type": "code",
   "execution_count": 26,
   "id": "87957b28-a14b-4223-b0c4-6d93f5cec7b7",
   "metadata": {},
   "outputs": [
    {
     "data": {
      "text/plain": [
       "array([11.0976944])"
      ]
     },
     "execution_count": 26,
     "metadata": {},
     "output_type": "execute_result"
    }
   ],
   "source": [
    "a3"
   ]
  },
  {
   "cell_type": "code",
   "execution_count": null,
   "id": "5696716b-7a50-432d-8094-8a038e8ffa15",
   "metadata": {},
   "outputs": [],
   "source": []
  }
 ],
 "metadata": {
  "kernelspec": {
   "display_name": "Python 3 (ipykernel)",
   "language": "python",
   "name": "python3"
  },
  "language_info": {
   "codemirror_mode": {
    "name": "ipython",
    "version": 3
   },
   "file_extension": ".py",
   "mimetype": "text/x-python",
   "name": "python",
   "nbconvert_exporter": "python",
   "pygments_lexer": "ipython3",
   "version": "3.9.12"
  }
 },
 "nbformat": 4,
 "nbformat_minor": 5
}
